{
 "cells": [
  {
   "cell_type": "code",
   "execution_count": 1,
   "id": "1379f9fa",
   "metadata": {
    "_cell_guid": "b1076dfc-b9ad-4769-8c92-a6c4dae69d19",
    "_uuid": "8f2839f25d086af736a60e9eeb907d3b93b6e0e5",
    "execution": {
     "iopub.execute_input": "2024-12-05T00:27:52.404029Z",
     "iopub.status.busy": "2024-12-05T00:27:52.403616Z",
     "iopub.status.idle": "2024-12-05T00:27:54.790764Z",
     "shell.execute_reply": "2024-12-05T00:27:54.789649Z"
    },
    "papermill": {
     "duration": 2.393741,
     "end_time": "2024-12-05T00:27:54.793147",
     "exception": false,
     "start_time": "2024-12-05T00:27:52.399406",
     "status": "completed"
    },
    "tags": []
   },
   "outputs": [
    {
     "name": "stdout",
     "output_type": "stream",
     "text": [
      "/kaggle/input/ml-2024-f/train_final.csv\n",
      "/kaggle/input/ml-2024-f/test_final.csv\n"
     ]
    }
   ],
   "source": [
    "# This Python 3 environment comes with many helpful analytics libraries installed\n",
    "# It is defined by the kaggle/python Docker image: https://github.com/kaggle/docker-python\n",
    "# For example, here's several helpful packages to load\n",
    "\n",
    "import numpy as np # linear algebra\n",
    "import pandas as pd # data processing, CSV file I/O (e.g. pd.read_csv)\n",
    "from pandas import read_csv\n",
    "from collections import Counter\n",
    "from numpy import mean\n",
    "from numpy import std\n",
    "from numpy import hstack\n",
    "from pandas import read_csv\n",
    "from sklearn.preprocessing import LabelEncoder\n",
    "from sklearn.preprocessing import OneHotEncoder as SKlearnOneHot\n",
    "from sklearn.preprocessing import MinMaxScaler\n",
    "from sklearn.pipeline import Pipeline\n",
    "from sklearn.compose import ColumnTransformer\n",
    "from sklearn.model_selection import cross_val_score\n",
    "from sklearn.model_selection import RepeatedStratifiedKFold\n",
    "from sklearn.dummy import DummyClassifier\n",
    "from sklearn.svm import SVC\n",
    "from sklearn.metrics import auc, classification_report, roc_curve, roc_auc_score\n",
    "import pickle\n",
    "from sklearn.model_selection import KFold\n",
    "from sklearn.ensemble import RandomForestClassifier\n",
    "from sklearn.model_selection import train_test_split, KFold\n",
    "\n",
    "\n",
    "# Input data files are available in the read-only \"../input/\" directory\n",
    "# For example, running this (by clicking run or pressing Shift+Enter) will list all files under the input directory\n",
    "files=[]\n",
    "import os\n",
    "for dirname, _, filenames in os.walk('/kaggle/input'):\n",
    "    for filename in filenames:\n",
    "        print(os.path.join(dirname, filename))\n",
    "        files.append(os.path.join(dirname, filename))\n",
    "\n",
    "# You can write up to 20GB to the current directory (/kaggle/working/) that gets preserved as output when you create a version using \"Save & Run All\" \n",
    "# You can also write temporary files to /kaggle/temp/, but they won't be saved outside of the current session"
   ]
  },
  {
   "cell_type": "code",
   "execution_count": 2,
   "id": "b0177632",
   "metadata": {
    "execution": {
     "iopub.execute_input": "2024-12-05T00:27:54.800341Z",
     "iopub.status.busy": "2024-12-05T00:27:54.799799Z",
     "iopub.status.idle": "2024-12-05T00:27:55.114469Z",
     "shell.execute_reply": "2024-12-05T00:27:55.113469Z"
    },
    "papermill": {
     "duration": 0.320587,
     "end_time": "2024-12-05T00:27:55.116678",
     "exception": false,
     "start_time": "2024-12-05T00:27:54.796091",
     "status": "completed"
    },
    "tags": []
   },
   "outputs": [
    {
     "name": "stderr",
     "output_type": "stream",
     "text": [
      "/tmp/ipykernel_17/4142725209.py:42: FutureWarning: A value is trying to be set on a copy of a DataFrame or Series through chained assignment using an inplace method.\n",
      "The behavior will change in pandas 3.0. This inplace method will never work because the intermediate object on which we are setting values always behaves as a copy.\n",
      "\n",
      "For example, when doing 'df[col].method(value, inplace=True)', try using 'df.method({col: value}, inplace=True)' or df[col] = df[col].method(value) instead, to perform the operation inplace on the original object.\n",
      "\n",
      "\n",
      "  df['native.country'].replace(countries, 'Other', inplace = True)\n"
     ]
    }
   ],
   "source": [
    "class OneHotEncoder(SKlearnOneHot):\n",
    "    def __init__(self, **kwargs):\n",
    "        super(OneHotEncoder, self).__init__(**kwargs)\n",
    "        self.fit_flag = False\n",
    "\n",
    "    def fit(self, X, **kwargs):\n",
    "        out = super().fit(X)\n",
    "        self.fit_flag = True\n",
    "        return out\n",
    "\n",
    "    def transform(self, X, **kwargs):\n",
    "        sparse_matrix = super(OneHotEncoder, self).transform(X)\n",
    "        new_columns = self.get_new_columns(X = X)\n",
    "        d_out = pd.DataFrame(sparse_matrix.toarray(), columns = new_columns, index = X.index)\n",
    "        return d_out\n",
    "\n",
    "    def fit_transform(self, X, **kwargs):\n",
    "        self.fit(X)\n",
    "        return self.transform(X)\n",
    "\n",
    "    def get_new_columns(self, X):\n",
    "        new_columns = []\n",
    "        for i, column in enumerate(X.columns):\n",
    "            j = 0\n",
    "            while j < len(self.categories_[i]):\n",
    "                new_columns.append(f'{column}_{self.categories_[i][j]}')\n",
    "                j += 1\n",
    "        return new_columns\n",
    "\n",
    "label = 'income>50K'\n",
    "num_features = ['age', 'capital.gain', 'capital.loss', 'hours.per.week', 'education.num']\n",
    "cat_features = ['workclass', 'marital.status', 'occupation', 'relationship', 'race', 'sex', 'native.country']\n",
    "\n",
    "def preprocess_dataframe(df, train=True):\n",
    "    df = df.drop(['fnlwgt'], axis=1)\n",
    "    df.drop(['education'], axis = 1, inplace = True)\n",
    "    df = df.drop(df[df['native.country'] == '?'].index)\n",
    "    countries = np.array(df['native.country'].unique())\n",
    "    # print(countries)\n",
    "    x = np.argwhere(countries==\"United-States\")\n",
    "    countries = np.delete(countries, x)\n",
    "    df['native.country'].replace(countries, 'Other', inplace = True)\n",
    "    enc = OneHotEncoder()\n",
    "    encoder_cols = enc.fit_transform(df[cat_features])\n",
    "    df = pd.concat([pd.concat([df[num_features], encoder_cols], axis=1), df[label]], axis=1)\n",
    "    return df\n",
    "    \n",
    "\n",
    "\n",
    "# print(np.array(train_data['native.country'].unique()))\n",
    "# print(np.array(test_data['native.country'].unique()))\n",
    "train_data = pd.read_csv(files[0])\n",
    "test_data = pd.read_csv(files[1])\n",
    "df=preprocess_dataframe(train_data)\n",
    "# df_test = preprocess_dataframe(test_data, False)\n",
    "# df.isnull().sum()\n",
    "\n",
    "# print(df['native.country'].value_counts())\n",
    "\n",
    "\n",
    "\n",
    "\n",
    "\n",
    "\n",
    "features = df.columns.tolist()\n",
    "features.remove(label)\n",
    "X = df[features]\n",
    "y = df[label]\n",
    "\n",
    "\n",
    "# predictions = .predict(X_test)\n",
    "# output = pd.DataFrame({'index': X_test.index, 'income >$50K/yr': predictions})\n",
    "# print(\"END OF THE PREDICTING\")"
   ]
  },
  {
   "cell_type": "code",
   "execution_count": 3,
   "id": "3f6a3e9f",
   "metadata": {
    "execution": {
     "iopub.execute_input": "2024-12-05T00:27:55.123384Z",
     "iopub.status.busy": "2024-12-05T00:27:55.123019Z",
     "iopub.status.idle": "2024-12-05T00:27:55.128289Z",
     "shell.execute_reply": "2024-12-05T00:27:55.127278Z"
    },
    "papermill": {
     "duration": 0.010949,
     "end_time": "2024-12-05T00:27:55.130232",
     "exception": false,
     "start_time": "2024-12-05T00:27:55.119283",
     "status": "completed"
    },
    "tags": []
   },
   "outputs": [],
   "source": [
    "\n",
    "# def trainmodel(nFolds = 2, randomState=2020, features=features, debug= False, model, df = df):\n",
    "    \n",
    "#     kf = KFold(n_splits=nFolds, shuffle=True, random_state=randomState)\n",
    "    \n",
    "#     # predictions for individual folds\n",
    "#     predictions = []\n",
    "    \n",
    "\n",
    "#     # the index in the original file\n",
    "#     indices = []\n",
    "#     true_label=[]\n",
    "\n",
    "        \n",
    "#     for train, test in kf.split(df.index.values):\n",
    "#         if debug:\n",
    "#             print(model)\n",
    "#         model.fit(df.iloc[train][features], df.iloc[train][label])\n",
    "\n",
    "#         preds = model.predict_proba(df.iloc[test][features])[:,1]\n",
    "\n",
    "#         predictions.append(preds.tolist().copy())\n",
    "\n",
    "#         indices.append(df.iloc[test].index.tolist().copy())\n",
    "\n",
    "#         true_label.append(df.iloc[test][label]==1)\n",
    "\n",
    "#         feature_importance = model.feature_importances_\n",
    "        \n",
    "#     return predictions, indices, feature_importance, true_label\n",
    "\n",
    "\n",
    "# rand_forest = RandomForestClassifier(random_state=2020, n_jobs=-1, n_estimators=100, \n",
    "#                                  max_depth=50, max_features=20, min_samples_split=30)\n",
    "\n",
    "# predictions, indices, feature_importance, true_label = trainmodel(model=rand_forest)\n",
    "# # for i in range(1,30):\n",
    "# #     print(predictions[0][i], indices[i], true_label[i])\n",
    "\n",
    "# # pred_ = np.array(predictions)\n",
    "\n",
    "\n",
    "# random_forest = {\n",
    "#     \"name\":\"Random Forest\",\n",
    "#     \"predictions\": predictions,\n",
    "#     \"indices\": indices,\n",
    "#     \"feature importance\": feature_importance,\n",
    "#     \"true_label\":true_label\n",
    "# }\n",
    "\n",
    "# with open(\"/kaggle/working/random_forest.p\", \"wb\") as fp:\n",
    "#     pickle.dump(random_forest, fp)"
   ]
  },
  {
   "cell_type": "code",
   "execution_count": 4,
   "id": "80ae366f",
   "metadata": {
    "execution": {
     "iopub.execute_input": "2024-12-05T00:27:55.137329Z",
     "iopub.status.busy": "2024-12-05T00:27:55.136509Z",
     "iopub.status.idle": "2024-12-05T00:27:55.249196Z",
     "shell.execute_reply": "2024-12-05T00:27:55.248365Z"
    },
    "papermill": {
     "duration": 0.118671,
     "end_time": "2024-12-05T00:27:55.251607",
     "exception": false,
     "start_time": "2024-12-05T00:27:55.132936",
     "status": "completed"
    },
    "tags": []
   },
   "outputs": [
    {
     "name": "stderr",
     "output_type": "stream",
     "text": [
      "/tmp/ipykernel_17/3812567552.py:13: FutureWarning: A value is trying to be set on a copy of a DataFrame or Series through chained assignment using an inplace method.\n",
      "The behavior will change in pandas 3.0. This inplace method will never work because the intermediate object on which we are setting values always behaves as a copy.\n",
      "\n",
      "For example, when doing 'df[col].method(value, inplace=True)', try using 'df.method({col: value}, inplace=True)' or df[col] = df[col].method(value) instead, to perform the operation inplace on the original object.\n",
      "\n",
      "\n",
      "  df['native.country'].replace(countries, 'Other', inplace = True)\n"
     ]
    }
   ],
   "source": [
    "IDs = test_data['ID'].to_numpy()\n",
    "\n",
    "def preprocess_dataframe_test(df):\n",
    "    df = df.drop(['fnlwgt'], axis=1)\n",
    "    df.drop(['education'], axis = 1, inplace = True)\n",
    "    # df = df.drop(df[df['native.country'] == '?'].index)\n",
    "    countries = np.array(df['native.country'].unique())\n",
    "    # print(countries)\n",
    "    x = np.argwhere(countries==\"United-States\")\n",
    "    countries = np.delete(countries, x)\n",
    "    # print(countries)\n",
    "\n",
    "    df['native.country'].replace(countries, 'Other', inplace = True)\n",
    "    enc = OneHotEncoder()\n",
    "    encoder_cols = enc.fit_transform(df[cat_features])\n",
    "    df[label]=''\n",
    "    df = pd.concat([pd.concat([df[num_features], encoder_cols], axis=1), df[label]], axis=1)\n",
    "    return df\n",
    "\n",
    "df_test=preprocess_dataframe_test(test_data)\n",
    "\n",
    "X_test= df_test[features]\n"
   ]
  },
  {
   "cell_type": "code",
   "execution_count": 5,
   "id": "8996b7c0",
   "metadata": {
    "execution": {
     "iopub.execute_input": "2024-12-05T00:27:55.258409Z",
     "iopub.status.busy": "2024-12-05T00:27:55.258024Z",
     "iopub.status.idle": "2024-12-05T00:27:56.566838Z",
     "shell.execute_reply": "2024-12-05T00:27:56.565963Z"
    },
    "papermill": {
     "duration": 1.314808,
     "end_time": "2024-12-05T00:27:56.569165",
     "exception": false,
     "start_time": "2024-12-05T00:27:55.254357",
     "status": "completed"
    },
    "tags": []
   },
   "outputs": [],
   "source": [
    "# with open(\"/kaggle/working/random_forest.p\", \"rb\") as fp:\n",
    "#     rand_forest = pickle.load(fp)\n",
    "\n",
    "model = RandomForestClassifier(random_state=2020, n_jobs=-1, n_estimators=100, \n",
    "                                 max_depth=50, max_features=10, min_samples_split=30)\n",
    "model.fit(X,y)\n",
    "predictions = model.predict_proba(X_test)[:,1]\n",
    "output = pd.DataFrame({'ID': IDs, 'Prediction': predictions})\n",
    "output.to_csv('/kaggle/working/preds10.csv', index=False)"
   ]
  },
  {
   "cell_type": "code",
   "execution_count": 6,
   "id": "ec6e620d",
   "metadata": {
    "execution": {
     "iopub.execute_input": "2024-12-05T00:27:56.576282Z",
     "iopub.status.busy": "2024-12-05T00:27:56.575532Z",
     "iopub.status.idle": "2024-12-05T00:27:56.579809Z",
     "shell.execute_reply": "2024-12-05T00:27:56.578926Z"
    },
    "papermill": {
     "duration": 0.009687,
     "end_time": "2024-12-05T00:27:56.581639",
     "exception": false,
     "start_time": "2024-12-05T00:27:56.571952",
     "status": "completed"
    },
    "tags": []
   },
   "outputs": [],
   "source": [
    "\n",
    "# def predict_test(X_test):\n",
    "#     model = RandomForestClassifier(random_state=2020, n_jobs=-1, n_estimators=100, \n",
    "#                                  max_depth=50, max_features=10, min_samples_split=30)\n",
    "#     model.fit(X,y)\n",
    "#     predictions = model.predict_proba(X_test)[:,1]\n",
    "#     output = pd.DataFrame({'ID': X_test.index, 'Prediction': predictions})\n",
    "#     output.to_csv('/kaggle/working/income_prediction.csv', index=False)\n",
    "#     return output"
   ]
  },
  {
   "cell_type": "code",
   "execution_count": null,
   "id": "4806ab3e",
   "metadata": {
    "papermill": {
     "duration": 0.002329,
     "end_time": "2024-12-05T00:27:56.586609",
     "exception": false,
     "start_time": "2024-12-05T00:27:56.584280",
     "status": "completed"
    },
    "tags": []
   },
   "outputs": [],
   "source": []
  }
 ],
 "metadata": {
  "kaggle": {
   "accelerator": "none",
   "dataSources": [
    {
     "databundleVersionId": 9441405,
     "sourceId": 84329,
     "sourceType": "competition"
    }
   ],
   "dockerImageVersionId": 30804,
   "isGpuEnabled": false,
   "isInternetEnabled": false,
   "language": "python",
   "sourceType": "notebook"
  },
  "kernelspec": {
   "display_name": "Python 3",
   "language": "python",
   "name": "python3"
  },
  "language_info": {
   "codemirror_mode": {
    "name": "ipython",
    "version": 3
   },
   "file_extension": ".py",
   "mimetype": "text/x-python",
   "name": "python",
   "nbconvert_exporter": "python",
   "pygments_lexer": "ipython3",
   "version": "3.10.14"
  },
  "papermill": {
   "default_parameters": {},
   "duration": 7.35086,
   "end_time": "2024-12-05T00:27:57.210961",
   "environment_variables": {},
   "exception": null,
   "input_path": "__notebook__.ipynb",
   "output_path": "__notebook__.ipynb",
   "parameters": {},
   "start_time": "2024-12-05T00:27:49.860101",
   "version": "2.6.0"
  }
 },
 "nbformat": 4,
 "nbformat_minor": 5
}
